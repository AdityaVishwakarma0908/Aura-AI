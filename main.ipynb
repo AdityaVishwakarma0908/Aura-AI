{
 "cells": [
  {
   "cell_type": "code",
   "execution_count": 22,
   "id": "c737b6f4",
   "metadata": {},
   "outputs": [
    {
     "name": "stdout",
     "output_type": "stream",
     "text": [
      "configurations are done ... \n",
      "Adaptive prompt is ready ... \n",
      "Aggressive prompt is ready ... \n",
      "Happy prompt is ready ... \n",
      "Emotional prompt is ready ... \n",
      "Sarcastic prompt is ready ... \n",
      "Professional prompt is ready ... \n",
      "girlfriend prompt is ready ... \n",
      "boyfriend prompt is ready ... \n",
      "chat phase is raday ...\n"
     ]
    }
   ],
   "source": [
    "# imports the whole system\n",
    "\n",
    "%run ./chat_phase.ipynb"
   ]
  },
  {
   "cell_type": "markdown",
   "id": "32e56ce2",
   "metadata": {},
   "source": [
    "## Use llama() for chat wirh llama"
   ]
  },
  {
   "cell_type": "code",
   "execution_count": null,
   "id": "5f4b8e63",
   "metadata": {},
   "outputs": [],
   "source": []
  }
 ],
 "metadata": {
  "kernelspec": {
   "display_name": "Python 3",
   "language": "python",
   "name": "python3"
  },
  "language_info": {
   "codemirror_mode": {
    "name": "ipython",
    "version": 3
   },
   "file_extension": ".py",
   "mimetype": "text/x-python",
   "name": "python",
   "nbconvert_exporter": "python",
   "pygments_lexer": "ipython3",
   "version": "3.11.13"
  }
 },
 "nbformat": 4,
 "nbformat_minor": 5
}
