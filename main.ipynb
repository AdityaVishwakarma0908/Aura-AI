{
 "cells": [
  {
   "cell_type": "code",
   "execution_count": 1,
   "id": "c737b6f4",
   "metadata": {},
   "outputs": [
    {
     "name": "stdout",
     "output_type": "stream",
     "text": [
      "configurations are done ... \n",
      "all prompts are ready ...\n",
      "chat phase is raday ...\n"
     ]
    }
   ],
   "source": [
    "# imports the whole system\n",
    "\n",
    "%run ./chat_phase.ipynb"
   ]
  },
  {
   "cell_type": "markdown",
   "id": "32e56ce2",
   "metadata": {},
   "source": [
    "## Here we are using Gradio for giving UI (basic)"
   ]
  },
  {
   "cell_type": "code",
   "execution_count": 2,
   "id": "5f4b8e63",
   "metadata": {},
   "outputs": [
    {
     "name": "stderr",
     "output_type": "stream",
     "text": [
      "c:\\Users\\Aditya Vishwakarma\\.conda\\envs\\llms\\Lib\\site-packages\\gradio\\interface.py:425: UserWarning: The `allow_flagging` parameter in `Interface` is deprecated. Use `flagging_mode` instead.\n",
      "  warnings.warn(\n"
     ]
    },
    {
     "name": "stdout",
     "output_type": "stream",
     "text": [
      "* Running on local URL:  http://127.0.0.1:7860\n",
      "* Running on public URL: https://343c00c980bdc7a430.gradio.live\n",
      "\n",
      "This share link expires in 1 week. For free permanent hosting and GPU upgrades, run `gradio deploy` from the terminal in the working directory to deploy to Hugging Face Spaces (https://huggingface.co/spaces)\n"
     ]
    },
    {
     "data": {
      "text/html": [
       "<div><iframe src=\"https://343c00c980bdc7a430.gradio.live\" width=\"100%\" height=\"500\" allow=\"autoplay; camera; microphone; clipboard-read; clipboard-write;\" frameborder=\"0\" allowfullscreen></iframe></div>"
      ],
      "text/plain": [
       "<IPython.core.display.HTML object>"
      ]
     },
     "metadata": {},
     "output_type": "display_data"
    },
    {
     "data": {
      "text/plain": []
     },
     "execution_count": 2,
     "metadata": {},
     "output_type": "execute_result"
    }
   ],
   "source": [
    "view = gr.Interface(\n",
    "    fn=llama, \n",
    "    inputs = [\n",
    "        gr.Textbox(\n",
    "            label=\"Your message: (you have to overwrite message each time)\", \n",
    "            lines=6\n",
    "        ),\n",
    "\n",
    "        gr.Dropdown(\n",
    "            [\"normal\",\n",
    "             \"aggressive\",\n",
    "             \"happy\",\n",
    "             \"emotional\",\n",
    "             \"sarcastic\",\n",
    "             \"professional\",\n",
    "             \"girlfriend\",\n",
    "             \"boyfriend\"\n",
    "            ],\n",
    "            label=\"Select Bot Type\"\n",
    "        ),\n",
    "\n",
    "        gr.Checkbox(label=\"Start a new chat\")\n",
    "    ],\n",
    "    outputs = [gr.Textbox(label=\"response:\")],\n",
    "    allow_flagging=\"never\"\n",
    ")\n",
    "\n",
    "view.launch(share=True)"
   ]
  }
 ],
 "metadata": {
  "kernelspec": {
   "display_name": "Python 3",
   "language": "python",
   "name": "python3"
  },
  "language_info": {
   "codemirror_mode": {
    "name": "ipython",
    "version": 3
   },
   "file_extension": ".py",
   "mimetype": "text/x-python",
   "name": "python",
   "nbconvert_exporter": "python",
   "pygments_lexer": "ipython3",
   "version": "3.11.13"
  }
 },
 "nbformat": 4,
 "nbformat_minor": 5
}
