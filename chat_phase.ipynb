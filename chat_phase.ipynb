{
 "cells": [
  {
   "cell_type": "code",
   "execution_count": null,
   "id": "3e93177e",
   "metadata": {},
   "outputs": [
    {
     "name": "stdout",
     "output_type": "stream",
     "text": [
      "configurations are done ... \n",
      "prompt is ready ... \n"
     ]
    }
   ],
   "source": [
    "# here are all the imports\n",
    "\n",
    "import requests\n",
    "import json\n",
    "from IPython.display import display, Markdown\n",
    "\n",
    "%run ./config.ipynb # imports the configuration \n",
    "%run ./prompts.ipynb #"
   ]
  },
  {
   "cell_type": "code",
   "execution_count": null,
   "id": "f6ecc5aa",
   "metadata": {},
   "outputs": [],
   "source": [
    "# here is the history list where we'll store all the hoistory messages for next responces\n",
    "\n",
    "message_history = [\n",
    "    {\"role\": \"system\", \"content\": normal_system_prompt}, # from here you can change the system prompt type\n",
    "]"
   ]
  },
  {
   "cell_type": "code",
   "execution_count": null,
   "id": "16e957ff",
   "metadata": {},
   "outputs": [],
   "source": [
    "def llama(user_prompt):\n",
    "\n",
    "    message_history.append({\"role\": \"user\", \"content\": user_prompt})\n",
    "\n",
    "     # json formate\n",
    "    data = {\n",
    "        \"model\": MODEL,\n",
    "        \"messages\":message_history,\n",
    "        \"stream\": False\n",
    "    }\n",
    "\n",
    "    #making request to ollama\n",
    "    response = requests.post( \n",
    "        URL,\n",
    "        headers = headers,\n",
    "        data = json.dumps(data)\n",
    "    )\n",
    "\n",
    "    # result stores the meaasge\n",
    "    result = response.json()[\"choices\"][0][\"message\"][\"content\"]  \n",
    "\n",
    "    message_history.append({\"role\": \"assistant\", \"content\": result})\n",
    "\n",
    "    # returns the message given by llama\n",
    "    display(Markdown(result))   \n",
    "\n",
    "print(\"chat phase is raday ...\")"
   ]
  }
 ],
 "metadata": {
  "kernelspec": {
   "display_name": "Python 3",
   "language": "python",
   "name": "python3"
  },
  "language_info": {
   "codemirror_mode": {
    "name": "ipython",
    "version": 3
   },
   "file_extension": ".py",
   "mimetype": "text/x-python",
   "name": "python",
   "nbconvert_exporter": "python",
   "pygments_lexer": "ipython3",
   "version": "3.11.13"
  }
 },
 "nbformat": 4,
 "nbformat_minor": 5
}
