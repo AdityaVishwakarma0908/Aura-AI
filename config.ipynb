{
 "cells": [
  {
   "cell_type": "markdown",
   "id": "8d577bff",
   "metadata": {},
   "source": [
    "# Configurations for llama"
   ]
  },
  {
   "cell_type": "code",
   "execution_count": null,
   "id": "2e3f0891",
   "metadata": {},
   "outputs": [],
   "source": [
    "# here our local host setup\n",
    "\n",
    "URL = \"http://localhost:11434/v1/chat/completions\"\n",
    "MODEL = \"llama3.2\"\n",
    "headers = {\"Content-type\": \"application/json\"}\n",
    "\n",
    "print(\"configurations are done ... \")"
   ]
  }
 ],
 "metadata": {
  "kernelspec": {
   "display_name": "Python 3",
   "language": "python",
   "name": "python3"
  },
  "language_info": {
   "codemirror_mode": {
    "name": "ipython",
    "version": 3
   },
   "file_extension": ".py",
   "mimetype": "text/x-python",
   "name": "python",
   "nbconvert_exporter": "python",
   "pygments_lexer": "ipython3",
   "version": "3.11.13"
  }
 },
 "nbformat": 4,
 "nbformat_minor": 5
}
